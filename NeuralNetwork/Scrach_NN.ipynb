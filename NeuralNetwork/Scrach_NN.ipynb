{
  "cells": [
    {
      "cell_type": "code",
      "execution_count": 81,
      "metadata": {
        "id": "bUEfK-EG-fui"
      },
      "outputs": [],
      "source": [
        "from tensorflow.keras.datasets import mnist\n",
        "import numpy as np\n",
        "import math\n",
        "from sklearn.metrics import accuracy_score\n",
        "import matplotlib.pyplot as plt"
      ]
    },
    {
      "cell_type": "code",
      "execution_count": 82,
      "metadata": {
        "id": "pJ_ty-p5-wai"
      },
      "outputs": [],
      "source": [
        "class ANN:\n",
        "  def __init__(self, n_epoch, learning_rate, batch_size, n_input, n_h1, n_h2, n_output):\n",
        "    self.learning_rate = learning_rate,\n",
        "    self.n_epoch = n_epoch\n",
        "    self.batch_size = batch_size\n",
        "    self.n_input = n_input\n",
        "\n",
        "    # Xavier weight initialization\n",
        "    self.w1 = np.random.randn(n_h1, n_input) * np.sqrt(1. / (n_h1 + n_input))\n",
        "    self.w2 = np.random.randn(n_h2, n_h1) * np.sqrt(1. / (n_h2 + n_h1))\n",
        "    self.w3 = np.random.randn(n_output, n_h2) * np.sqrt(1. / (n_output + n_h2))\n",
        "\n",
        "      \n",
        "    # store a_i (activation) and z_i (W_i * a_(i-1)) parameter values\n",
        "    self.x = np.zeros((n_input, batch_size))\n",
        "    self.a1 = np.zeros((n_h1, batch_size))\n",
        "    self.a2 = np.zeros((n_h2, batch_size))\n",
        "    self.a3 = np.zeros((n_output, batch_size))\n",
        "    self.z1 = np.zeros((n_h1, batch_size))\n",
        "    self.z2 = np.zeros((n_h2, batch_size))\n",
        "    self.z3 = np.zeros((n_output, batch_size))\n",
        "    \n",
        "    # store partial derivatives wrt w1,w2,w3\n",
        "    self.partials = dict()\n",
        "\n",
        "  def softmax(self, x, derivative=False):\n",
        "    if derivative:\n",
        "      return self.softmax(x) * (1. - self.softmax(x))\n",
        "    x -= np.max(x, axis=1, keepdims=True) # ensure numerical stability by subtracting max value of each row\n",
        "    exp_x = np.exp(x)\n",
        "    return exp_x / np.sum(exp_x, axis=1, keepdims=True)\n",
        "\n",
        "  def sigmoid(self, x, derivative=False):\n",
        "    if derivative:\n",
        "      return self.sigmoid(x) * (1. - self.sigmoid(x))\n",
        "    return 1. / (1. + np.exp(-x))\n",
        "\n",
        "  def forward_pass(self, x):\n",
        "    self.x = x\n",
        "    self.z1 = np.dot(self.w1,x)\n",
        "    self.a1 = self.sigmoid(self.z1)\n",
        "    self.z2 = np.dot(self.w2,self.a1)\n",
        "    self.a2 = self.sigmoid(self.z2)\n",
        "    self.z3 = np.dot(self.w3,self.a2)\n",
        "    self.a3 = self.softmax(self.z3)\n",
        "\n",
        "  def compute_gradients(self, y_true):\n",
        "    \"\"\"\n",
        "    Backpropagation\n",
        "\n",
        "    note: y_true has shape (n_batch x 10)\n",
        "    \"\"\"\n",
        "    partials = dict()\n",
        "\n",
        "    # calculate partil derivatives wrt w_i\n",
        "    dLoss_dz3 = - np.sum(y_true*(1./self.a3),axis=1).reshape((10, 1)) * self.softmax(self.z3, derivative=True)\n",
        "    partials['dLoss_dw3'] = np.dot(dLoss_dz3, self.a2.T)\n",
        "    dLoss_dz2 = np.dot(dLoss_dz3.T, self.w3).T * self.sigmoid(self.z2, derivative=True)\n",
        "    partials['dLoss_dw2'] = np.dot(dLoss_dz2, self.a1.T)\n",
        "    dLoss_dz1 = np.dot(dLoss_dz2.T, self.w2).T * self.sigmoid(self.z1, derivative=True)\n",
        "    partials['dLoss_dw1'] = np.dot(dLoss_dz1, self.x.T)\n",
        "\n",
        "    # store partial derivatives in class constructor object\n",
        "    self.partials = partials\n",
        "\n",
        "  def update_weights(self):\n",
        "    self.w1 = self.w1 - (self.learning_rate * self.partials['dLoss_dw1'])\n",
        "    self.w2 = self.w2 - (self.learning_rate * self.partials['dLoss_dw2'])\n",
        "    self.w3 = self.w3 - (self.learning_rate * self.partials['dLoss_dw3'])\n",
        "\n",
        "  def train(self, X_train, y_train, y_train_orig, X_test, y_test_orig):\n",
        "    test_error = []\n",
        "    train_error = []\n",
        "    for epoch in range(self.n_epoch):\n",
        "      X_train_minibatches = []\n",
        "      y_train_minibatches = []\n",
        "      A = np.concatenate((X_train.T, y_train.T),axis=1)\n",
        "      np.random.shuffle(A)\n",
        "      X_train, y_train = A[:,0:784].T, A[:,784:].T\n",
        "      n_batch = math.floor(X_train.shape[1] / self.batch_size)\n",
        "      indx = 0\n",
        "      for i in range(n_batch):\n",
        "        X_train_minibatches.append(X_train.T[indx:indx+self.batch_size+1].T)\n",
        "        y_train_minibatches.append(y_train.T[indx:indx+self.batch_size+1].T)\n",
        "        indx += self.batch_size\n",
        "      for j in range(len(X_train_minibatches)):\n",
        "        self.forward_pass(X_train_minibatches[j])\n",
        "        self.compute_gradients(y_train_minibatches[j])\n",
        "        self.update_weights()\n",
        "      test_error.append(1 - accuracy_score(y_test_orig,self.predict(X_test)[1]))\n",
        "      train_error.append(1 - accuracy_score(y_train_orig,self.predict(X_train)[1]))\n",
        "      print(f\"Epoch {epoch + 1} Test Error: {test_error[-1]}\")\n",
        "    # plot learning curve \n",
        "    epochs = np.arange(1, self.n_epoch+1, step=1)\n",
        "    plt.figure(figsize=(10,6))\n",
        "    plt.plot(epochs, train_error, label='Train Error')\n",
        "    plt.plot(epochs, test_error, label='Test Error')\n",
        "    plt.xlabel(\"Number of Epochs\")\n",
        "    plt.ylabel(\"Error Rate\")\n",
        "    plt.legend(loc='upper right')\n",
        "    plt.xticks(epochs)\n",
        "    plt.yticks(np.arange(0, 1.1, step=.1))\n",
        "\n",
        "  def predict(self, X_test):\n",
        "    a3_pred = self.softmax(np.dot(self.w3,self.sigmoid(np.dot(self.w2,self.sigmoid(np.dot(self.w1,X_test)))))).T # n_sample x 10\n",
        "    return (a3_pred,np.argmax(a3_pred, axis=1))\n",
        "\n",
        "  def get_partials(self):\n",
        "    return self.partials"
      ]
    },
    {
      "cell_type": "code",
      "execution_count": 74,
      "metadata": {
        "colab": {
          "base_uri": "https://localhost:8080/"
        },
        "id": "GdhHCjvV-uFh",
        "outputId": "1a8764fb-6231-4b53-c236-6107352310f4"
      },
      "outputs": [
        {
          "output_type": "stream",
          "name": "stdout",
          "text": [
            "X_train: (60000, 28, 28)\n",
            "y_train: (60000,)\n",
            "X_test:  (10000, 28, 28)\n",
            "y_test:  (10000,)\n"
          ]
        }
      ],
      "source": [
        "(X_train, y_train), (X_test, y_test) = mnist.load_data()\n",
        "print('X_train: ' + str(X_train.shape))\n",
        "print('y_train: ' + str(y_train.shape))\n",
        "print('X_test:  '  + str(X_test.shape))\n",
        "print('y_test:  '  + str(y_test.shape))"
      ]
    },
    {
      "cell_type": "code",
      "execution_count": 77,
      "metadata": {
        "id": "vHET2Y_Id9I_"
      },
      "outputs": [],
      "source": [
        "# reshape and normalize X_train\n",
        "X_trian_norm = np.zeros((60000,784))\n",
        "for i in range(0, 60000):\n",
        "  X_trian_norm[i] = X_train[i].flatten() +0.01\n",
        "#X_train_norm = X_trian_norm / np.linalg.norm(X_trian_norm)\n",
        "X_train_norm = (X_trian_norm  / 255.0 * 0.99) + 0.01\n",
        "\n",
        "# reshape and normalize X_test\n",
        "X_test_norm = np.zeros((10000,784))\n",
        "for i in range(0, 10000):\n",
        "  X_test_norm[i] = X_test[i].flatten() +0.01\n",
        "#X_test_norm = X_test_norm / np.linalg.norm(X_test_norm)\n",
        "X_test_norm = (X_test_norm  / 255.0 * 0.99) + 0.01\n",
        "\n",
        "# reshape y_train as one-hot matrix with 10 columns\n",
        "y_train_new = np.zeros((60000,10))\n",
        "for i in range(0,60000):\n",
        "  y_train_new[i,y_train_orig[i]] = 1\n",
        "\n",
        "# reshape y_test as one-hot matrix with 10 columns\n",
        "y_test_new = np.zeros((10000,10))\n",
        "for i in range(0,10000):\n",
        "  y_test_new[i,y_test[i]] = 1"
      ]
    },
    {
      "cell_type": "code",
      "execution_count": 85,
      "metadata": {
        "colab": {
          "base_uri": "https://localhost:8080/",
          "height": 739
        },
        "id": "sn8cm-Dld9LP",
        "outputId": "3926cf86-88e9-4655-d459-bd52d3aca41f"
      },
      "outputs": [
        {
          "output_type": "stream",
          "name": "stdout",
          "text": [
            "Epoch 1 Test Error: 0.9263\n",
            "Epoch 2 Test Error: 0.9525\n",
            "Epoch 3 Test Error: 0.9456\n",
            "Epoch 4 Test Error: 0.9386\n",
            "Epoch 5 Test Error: 0.9304\n",
            "Epoch 6 Test Error: 0.9441\n",
            "Epoch 7 Test Error: 0.9406\n",
            "Epoch 8 Test Error: 0.9321\n",
            "Epoch 9 Test Error: 0.9354\n",
            "Epoch 10 Test Error: 0.9389\n",
            "Epoch 11 Test Error: 0.9349\n",
            "Epoch 12 Test Error: 0.8949\n",
            "Epoch 13 Test Error: 0.9424\n",
            "Epoch 14 Test Error: 0.9138\n",
            "Epoch 15 Test Error: 0.9412\n",
            "Epoch 16 Test Error: 0.9017\n",
            "Epoch 17 Test Error: 0.9184\n",
            "Epoch 18 Test Error: 0.9163\n",
            "Epoch 19 Test Error: 0.8955\n",
            "Epoch 20 Test Error: 0.9429\n"
          ]
        },
        {
          "output_type": "display_data",
          "data": {
            "text/plain": [
              "<Figure size 720x432 with 1 Axes>"
            ],
            "image/png": "[encoded data removed]"
          },
          "metadata": {
            "needs_background": "light"
          }
        }
      ],
      "source": [
        "nn = ANN(n_epoch=20, learning_rate=.05, batch_size=32, n_input=784, n_h1=300, n_h2=200, n_output=10)\n",
        "nn.train(X_train_norm.T, y_train_new.T, y_train, X_test_norm.T, y_test)"
      ]
    },
    {
      "cell_type": "code",
      "source": [],
      "metadata": {
        "id": "qI7nijFaz3xz"
      },
      "execution_count": null,
      "outputs": []
    }
  ],
  "metadata": {
    "colab": {
      "provenance": []
    },
    "kernelspec": {
      "display_name": "Python 3",
      "name": "python3"
    },
    "language_info": {
      "name": "python"
    }
  },
  "nbformat": 4,
  "nbformat_minor": 0
}