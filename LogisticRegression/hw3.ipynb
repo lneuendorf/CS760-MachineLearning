{
 "cells": [
  {
   "cell_type": "markdown",
   "id": "9c64a17d",
   "metadata": {},
   "source": [
    "# CS760 HW3\n",
    "# By Luke Neuendorf\n",
    "***"
   ]
  },
  {
   "cell_type": "code",
   "execution_count": 10,
   "id": "d377eb42",
   "metadata": {},
   "outputs": [],
   "source": [
    "# public library imports\n",
    "import numpy as np\n",
    "import warnings\n",
    "import matplotlib.pyplot as plt\n",
    "import pandas as pd\n",
    "from sklearn import metrics\n",
    "\n",
    "# setup\n",
    "pd.set_option('display.max_rows', 10000)\n",
    "pd.set_option('display.max_columns', 10000)\n",
    "warnings.filterwarnings('ignore')\n",
    "\n",
    "# custum implementations\n",
    "import LogisticRegression as lr"
   ]
  },
  {
   "cell_type": "markdown",
   "id": "8fb2339c",
   "metadata": {},
   "source": [
    "***\n",
    "# Problem 3"
   ]
  },
  {
   "cell_type": "code",
   "execution_count": 11,
   "id": "fc71ce38",
   "metadata": {},
   "outputs": [],
   "source": [
    "emails = pd.read_csv('../data/emails.csv')"
   ]
  },
  {
   "cell_type": "code",
   "execution_count": 12,
   "id": "2159e366",
   "metadata": {},
   "outputs": [],
   "source": [
    "X_train, y_train = emails.iloc[:4000,1:-1].to_numpy().astype(np.float), emails.iloc[:4000,-1:].to_numpy().astype(np.float)\n",
    "X_test, y_test = emails.iloc[4000:,1:-1].to_numpy().astype(np.float), emails.iloc[4000:,-1:].to_numpy().astype(np.float)"
   ]
  },
  {
   "cell_type": "code",
   "execution_count": 13,
   "id": "c5fc2fb2",
   "metadata": {},
   "outputs": [],
   "source": [
    "def logistic_reg_cross_validation(df, folds, print_bool):\n",
    "    len_split = int(len(df) / folds)\n",
    "    splits = []\n",
    "    index = 0\n",
    "    for i in range(0,folds):\n",
    "        splits.append(df.iloc[index:(index+len_split),:].reset_index(drop=True))\n",
    "        index += len_split\n",
    "    for i in range(0,folds):\n",
    "        df_train = pd.DataFrame(columns=emails.columns)\n",
    "        for j in range(0,folds):\n",
    "            if j != i:\n",
    "                df_train = pd.concat([df_train,splits[j]],ignore_index = True)\n",
    "        model = lr.LogisticRegressor(n_features=3000)\n",
    "        model.train(df_train.iloc[:,1:-1].to_numpy().astype(np.float),df_train.iloc[:,-1:].to_numpy().astype(np.float),learning_rate=.01,n_epochs=500)\n",
    "        y_pred = model.predict(splits[i].iloc[:,1:-1].to_numpy().astype(np.float)).astype(np.int).flatten()\n",
    "        y_test = splits[i].iloc[:,-1:].to_numpy().astype(np.int).flatten()\n",
    "        accuracy = metrics.accuracy_score(y_test, y_pred)\n",
    "        precision = metrics.precision_score(y_test, y_pred)\n",
    "        recall = metrics.recall_score(y_test, y_pred)\n",
    "        if print_bool:\n",
    "            print(\"Fold\", (i+1))\n",
    "            print(\"\\tAccuracy:\", accuracy)\n",
    "            print(\"\\tPrecision: %.4f\"% precision)\n",
    "            print(\"\\tRecall: %.4f\"% recall)"
   ]
  },
  {
   "cell_type": "code",
   "execution_count": 14,
   "id": "b42b84f0",
   "metadata": {},
   "outputs": [
    {
     "name": "stdout",
     "output_type": "stream",
     "text": [
      "Fold 1\n",
      "\tAccuracy: 0.81\n",
      "\tPrecision: 0.9703\n",
      "\tRecall: 0.3439\n",
      "Fold 2\n",
      "\tAccuracy: 0.783\n",
      "\tPrecision: 0.8750\n",
      "\tRecall: 0.2527\n",
      "Fold 3\n",
      "\tAccuracy: 0.864\n",
      "\tPrecision: 0.8854\n",
      "\tRecall: 0.5986\n",
      "Fold 4\n",
      "\tAccuracy: 0.781\n",
      "\tPrecision: 0.9412\n",
      "\tRecall: 0.2721\n",
      "Fold 5\n",
      "\tAccuracy: 0.798\n",
      "\tPrecision: 0.7708\n",
      "\tRecall: 0.4837\n"
     ]
    }
   ],
   "source": [
    "logistic_reg_cross_validation(emails,folds=5,print_bool=True)"
   ]
  },
  {
   "cell_type": "code",
   "execution_count": null,
   "id": "5324324c",
   "metadata": {},
   "outputs": [],
   "source": []
  }
 ],
 "metadata": {
  "kernelspec": {
   "display_name": "Python 3 (ipykernel)",
   "language": "python",
   "name": "python3"
  },
  "language_info": {
   "codemirror_mode": {
    "name": "ipython",
    "version": 3
   },
   "file_extension": ".py",
   "mimetype": "text/x-python",
   "name": "python",
   "nbconvert_exporter": "python",
   "pygments_lexer": "ipython3",
   "version": "3.9.7"
  }
 },
 "nbformat": 4,
 "nbformat_minor": 5
}
